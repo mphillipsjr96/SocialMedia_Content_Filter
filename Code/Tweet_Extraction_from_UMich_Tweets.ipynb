{
 "cells": [
  {
   "cell_type": "code",
   "execution_count": 37,
   "metadata": {},
   "outputs": [],
   "source": [
    "import pandas as pd\n",
    "from tqdm import tqdm"
   ]
  },
  {
   "cell_type": "code",
   "execution_count": 38,
   "metadata": {},
   "outputs": [
    {
     "name": "stderr",
     "output_type": "stream",
     "text": [
      "/Users/ryanmaloney/opt/anaconda3/lib/python3.7/site-packages/IPython/core/interactiveshell.py:3058: DtypeWarning: Columns (1,2,3,4,6,7,9) have mixed types.Specify dtype option on import or set low_memory=False.\n",
      "  interactivity=interactivity, compiler=compiler, result=result)\n"
     ]
    }
   ],
   "source": [
    "full_data = pd.read_csv('Desktop/full_tweets_umich.csv')"
   ]
  },
  {
   "cell_type": "code",
   "execution_count": 39,
   "metadata": {},
   "outputs": [],
   "source": [
    "full_tweets = full_data['text']"
   ]
  },
  {
   "cell_type": "code",
   "execution_count": 41,
   "metadata": {},
   "outputs": [],
   "source": [
    "from langdetect import detect"
   ]
  },
  {
   "cell_type": "code",
   "execution_count": 42,
   "metadata": {
    "scrolled": true
   },
   "outputs": [
    {
     "name": "stderr",
     "output_type": "stream",
     "text": [
      "100%|██████████| 9117687/9117687 [17:12:20<00:00, 147.20it/s]       \n"
     ]
    }
   ],
   "source": [
    "langdetect_holder = []\n",
    "for doc in tqdm(full_tweets):\n",
    "    try:\n",
    "        if detect(doc) == 'en':\n",
    "            langdetect_holder.append(doc)\n",
    "    except:\n",
    "        continue"
   ]
  },
  {
   "cell_type": "code",
   "execution_count": 199,
   "metadata": {},
   "outputs": [],
   "source": [
    "from vaderSentiment import vaderSentiment"
   ]
  },
  {
   "cell_type": "code",
   "execution_count": 200,
   "metadata": {},
   "outputs": [],
   "source": [
    "analyzer = vaderSentiment.SentimentIntensityAnalyzer()"
   ]
  },
  {
   "cell_type": "code",
   "execution_count": 201,
   "metadata": {
    "scrolled": true
   },
   "outputs": [
    {
     "name": "stderr",
     "output_type": "stream",
     "text": [
      "100%|██████████| 3169292/3169292 [04:56<00:00, 10679.88it/s]\n"
     ]
    }
   ],
   "source": [
    "vader_tweets = []\n",
    "sentiment = []\n",
    "\n",
    "for tweet in tqdm(langdetect_holder):\n",
    "    scores = analyzer.polarity_scores(tweet)\n",
    "    if (scores['pos'] >= .7):\n",
    "        vader_tweets.append(tweet)\n",
    "        sentiment.append('positive')\n",
    "        continue\n",
    "    if (scores['neg'] >= .7):\n",
    "        vader_tweets.append(tweet)\n",
    "        sentiment.append('negative')\n",
    "        continue\n",
    "    if (scores['neu'] >= .7):\n",
    "        vader_tweets.append(tweet)\n",
    "        sentiment.append('neutral')\n",
    "        continue"
   ]
  },
  {
   "cell_type": "code",
   "execution_count": 232,
   "metadata": {},
   "outputs": [],
   "source": [
    "import numpy as np"
   ]
  },
  {
   "cell_type": "code",
   "execution_count": 233,
   "metadata": {},
   "outputs": [],
   "source": [
    "data = np.array([vader_tweets, sentiment]).T\n",
    "vader_df = pd.DataFrame(data = data, columns = ['tweets', 'sentiment'])"
   ]
  },
  {
   "cell_type": "code",
   "execution_count": 235,
   "metadata": {},
   "outputs": [],
   "source": [
    "vader_df.to_csv('Desktop/vader_tweets_.7.csv', index=False)"
   ]
  },
  {
   "cell_type": "code",
   "execution_count": 237,
   "metadata": {},
   "outputs": [
    {
     "name": "stderr",
     "output_type": "stream",
     "text": [
      "/Users/ryanmaloney/opt/anaconda3/lib/python3.7/site-packages/ipykernel_launcher.py:3: UserWarning: Boolean Series key will be reindexed to match DataFrame index.\n",
      "  This is separate from the ipykernel package so we can avoid doing imports until\n"
     ]
    }
   ],
   "source": [
    "vader_df_filtered = vader_df[(~vader_df['tweets'].str.contains('weather')) & (~vader_df['tweets'].str.contains('🔥'))]\n",
    "vader_df_filtered = vader_df_filtered[~vader_df['tweets'].str.contains(\n",
    "    'Posted without comment because absolutely no comment is needed')]"
   ]
  },
  {
   "cell_type": "code",
   "execution_count": 238,
   "metadata": {},
   "outputs": [
    {
     "data": {
      "text/plain": [
       "101.0"
      ]
     },
     "execution_count": 238,
     "metadata": {},
     "output_type": "execute_result"
    }
   ],
   "source": [
    "vader_df_filtered['tweets'].apply(len).median()\n",
    "#median of 101 characters"
   ]
  },
  {
   "cell_type": "code",
   "execution_count": 251,
   "metadata": {},
   "outputs": [],
   "source": [
    "vader_df_short = vader_df_filtered[vader_df_filtered['tweets'].apply(lambda x : len(x) < 101)]\n",
    "vader_df_long = vader_df_filtered[vader_df_filtered['tweets'].apply(lambda x : len(x) > 101)]"
   ]
  },
  {
   "cell_type": "code",
   "execution_count": 252,
   "metadata": {},
   "outputs": [],
   "source": [
    "short_neu = vader_df_short[vader_df_short['sentiment']=='neutral']\n",
    "short_pos = vader_df_short[vader_df_short['sentiment']=='positive']\n",
    "\n",
    "long_neu = vader_df_long[vader_df_long['sentiment']=='neutral']\n",
    "long_pos = vader_df_long[vader_df_long['sentiment']=='positive']\n",
    "\n",
    "short_neu_tweets = short_neu.sample(n=13, random_state=3)\n",
    "long_neu_tweets = long_neu.sample(n=12, random_state=3)\n",
    "\n",
    "short_pos_tweets = short_pos.sample(n=13, random_state=3)\n",
    "long_pos_tweets = long_pos.sample(n=12, random_state=3)"
   ]
  },
  {
   "cell_type": "code",
   "execution_count": 253,
   "metadata": {},
   "outputs": [],
   "source": [
    "short_neg = vader_df_short[vader_df_short['sentiment']=='negative']\n",
    "long_neg = vader_df_long[vader_df_long['sentiment']=='negative']\n",
    "short_neg_tweets = short_neg.sample(n=37, random_state=3)\n",
    "long_neg_tweets = long_neg.sample(n=13, random_state=3)"
   ]
  },
  {
   "cell_type": "code",
   "execution_count": 254,
   "metadata": {},
   "outputs": [],
   "source": [
    "sampled_tweets = pd.concat(\n",
    "    [short_neu_tweets, long_neu_tweets, short_pos_tweets,long_pos_tweets,\n",
    "     short_neg_tweets,long_neg_tweets]).sample(frac=1, random_state=42)"
   ]
  },
  {
   "cell_type": "code",
   "execution_count": 256,
   "metadata": {},
   "outputs": [],
   "source": [
    "sampled_tweets.to_csv('Desktop/sampled_tweets.csv', index=False)"
   ]
  }
 ],
 "metadata": {
  "kernelspec": {
   "display_name": "Python 3 (ipykernel)",
   "language": "python",
   "name": "python3"
  },
  "language_info": {
   "codemirror_mode": {
    "name": "ipython",
    "version": 3
   },
   "file_extension": ".py",
   "mimetype": "text/x-python",
   "name": "python",
   "nbconvert_exporter": "python",
   "pygments_lexer": "ipython3",
   "version": "3.7.11"
  }
 },
 "nbformat": 4,
 "nbformat_minor": 2
}
